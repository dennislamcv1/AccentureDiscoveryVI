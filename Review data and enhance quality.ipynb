{
 "cells": [
  {
   "cell_type": "markdown",
   "metadata": {},
   "source": [
    "# Review data and enhance quality"
   ]
  },
  {
   "cell_type": "markdown",
   "metadata": {},
   "source": [
    "***"
   ]
  },
  {
   "cell_type": "markdown",
   "metadata": {},
   "source": [
    "## Project Description"
   ]
  },
  {
   "cell_type": "markdown",
   "metadata": {},
   "source": [
    "Customer Experience relies on:\n",
    "\n",
    "    Net Promoter Score (student’s NPS upon closing each claim);\n",
    "    Claim-to-cash time (time from submission to paying claims);\n",
    "    Accuracy of payment (% of claims that reopened after closure to fix remittance).\n",
    "\n",
    "Back-Office Operations relies on:\n",
    "\n",
    "    Claims Processed per Team Member (volume/ FTEs);\n",
    "    Fraudulent Claim Payments ($ paid to claims that were later discovered to not have been eligible for rebate);\n",
    "    Employee Satisfaction Score (measured weekly to gauge employee engagement).\n",
    "\n",
    "You will need to choose KPI-relevant data extracts from the available systems, as per the previous information (i.e., Claims Case System, Payment System, Fraud Management System, Employee Satisfaction Scores, and/ or Net Promoter Score). You will then need to enhance the data quality in order to prepare to build the dashboard. The key performance indicators identified in the previous task can be used as a starting point for considering data sources."
   ]
  },
  {
   "cell_type": "markdown",
   "metadata": {},
   "source": [
    "Review all the available data as per the activities below to guide you to prepare for designing the dashboard, and to answer four related questions: \n",
    "\n",
    "    Q1: Which data set pair (within the list provided) is not required to inform and calculate the key performance indicators of Net Promotor Score, Claim-To-Cash Time, Accuracy of Payment, Claims Processed Per Team Member, Fraudulent Claim Payments and Employee Satisfaction Score? \n",
    "\n",
    "    Q2: Using the remaining data sets, what is the recommended reporting time period for all KPIs? (Enhance data quality by removing unneeded data, deduplication, and ensuring fields are optimised for calculations. Keep the quality data ready for the next task and answer the remaining questions in this task.)\n",
    "\n",
    "    Q3: After improving the data quality, what is the number of employees (FTEs) working in the Back-Office during the week starting 21 March 2021 (week 13)? \n",
    "\n",
    "    Q4: After improving the data quality, what is the number of claims that were processed during the week starting 28 March 2021 (week 14)? "
   ]
  },
  {
   "cell_type": "markdown",
   "metadata": {},
   "source": [
    "## Import Libraries"
   ]
  },
  {
   "cell_type": "code",
   "execution_count": 1,
   "metadata": {},
   "outputs": [
    {
     "data": {
      "application/javascript": [
       "IPython.notebook.set_autosave_interval(60000)"
      ]
     },
     "metadata": {},
     "output_type": "display_data"
    },
    {
     "name": "stdout",
     "output_type": "stream",
     "text": [
      "Autosaving every 60 seconds\n"
     ]
    }
   ],
   "source": [
    "import numpy as np\n",
    "from numpy import count_nonzero, median, mean\n",
    "import pandas as pd\n",
    "import matplotlib.pyplot as plt\n",
    "import seaborn as sns\n",
    "import plotly.express as px\n",
    "import random\n",
    "\n",
    "%matplotlib inline\n",
    "#sets the default autosave frequency in seconds\n",
    "%autosave 60 \n",
    "sns.set_style('dark')\n",
    "sns.set(font_scale=1.2)\n",
    "\n",
    "plt.rc('axes', titlesize=9)\n",
    "plt.rc('axes', labelsize=14)\n",
    "plt.rc('xtick', labelsize=12)\n",
    "plt.rc('ytick', labelsize=12)\n",
    "\n",
    "import warnings\n",
    "warnings.filterwarnings('ignore')\n",
    "\n",
    "pd.set_option('display.max_columns',None)\n",
    "#pd.set_option('display.max_rows',None)\n",
    "pd.set_option('display.width', 1000)\n",
    "pd.set_option('display.float_format','{:.2f}'.format)\n",
    "\n",
    "random.seed(0)\n",
    "np.random.seed(0)\n",
    "np.set_printoptions(suppress=True)"
   ]
  },
  {
   "cell_type": "markdown",
   "metadata": {},
   "source": [
    "## Exploratory Data Analysis"
   ]
  },
  {
   "cell_type": "code",
   "execution_count": 2,
   "metadata": {},
   "outputs": [],
   "source": [
    "df = pd.read_csv(\"NPS Data.csv\",parse_dates=['Date'])"
   ]
  },
  {
   "cell_type": "code",
   "execution_count": 3,
   "metadata": {},
   "outputs": [
    {
     "data": {
      "text/html": [
       "<div>\n",
       "<style scoped>\n",
       "    .dataframe tbody tr th:only-of-type {\n",
       "        vertical-align: middle;\n",
       "    }\n",
       "\n",
       "    .dataframe tbody tr th {\n",
       "        vertical-align: top;\n",
       "    }\n",
       "\n",
       "    .dataframe thead th {\n",
       "        text-align: right;\n",
       "    }\n",
       "</style>\n",
       "<table border=\"1\" class=\"dataframe\">\n",
       "  <thead>\n",
       "    <tr style=\"text-align: right;\">\n",
       "      <th></th>\n",
       "      <th>SPID</th>\n",
       "      <th>Date</th>\n",
       "      <th>Claim Outcome</th>\n",
       "      <th>Promoter Score</th>\n",
       "      <th>Promoter Reason</th>\n",
       "      <th>Other</th>\n",
       "      <th>Data Supplier</th>\n",
       "      <th>Comments</th>\n",
       "    </tr>\n",
       "  </thead>\n",
       "  <tbody>\n",
       "    <tr>\n",
       "      <th>0</th>\n",
       "      <td>SNP000008773</td>\n",
       "      <td>2020-10-09</td>\n",
       "      <td>Settled</td>\n",
       "      <td>9</td>\n",
       "      <td>CSE</td>\n",
       "      <td>NaN</td>\n",
       "      <td>4</td>\n",
       "      <td></td>\n",
       "    </tr>\n",
       "    <tr>\n",
       "      <th>1</th>\n",
       "      <td>SNP000040607</td>\n",
       "      <td>2021-04-02</td>\n",
       "      <td>Declined</td>\n",
       "      <td>7</td>\n",
       "      <td>OOO</td>\n",
       "      <td>Aptent torquent auctor tempor turpis scelerisq...</td>\n",
       "      <td>4</td>\n",
       "      <td></td>\n",
       "    </tr>\n",
       "    <tr>\n",
       "      <th>2</th>\n",
       "      <td>SNP000065851</td>\n",
       "      <td>2020-06-27</td>\n",
       "      <td>Settled</td>\n",
       "      <td>6</td>\n",
       "      <td>CSE</td>\n",
       "      <td>NaN</td>\n",
       "      <td>4</td>\n",
       "      <td></td>\n",
       "    </tr>\n",
       "    <tr>\n",
       "      <th>3</th>\n",
       "      <td>SNP000302434197</td>\n",
       "      <td>2021-03-22</td>\n",
       "      <td>Declined</td>\n",
       "      <td>4</td>\n",
       "      <td>COT</td>\n",
       "      <td>NaN</td>\n",
       "      <td>3</td>\n",
       "      <td>Mi placerat praesent lorem sollicitudin nostra...</td>\n",
       "    </tr>\n",
       "    <tr>\n",
       "      <th>4</th>\n",
       "      <td>SNP00032039115</td>\n",
       "      <td>2021-04-23</td>\n",
       "      <td>Declined</td>\n",
       "      <td>4</td>\n",
       "      <td>OOO</td>\n",
       "      <td>Placerat class bibendum leo etiam consectetur ...</td>\n",
       "      <td>4</td>\n",
       "      <td></td>\n",
       "    </tr>\n",
       "    <tr>\n",
       "      <th>...</th>\n",
       "      <td>...</td>\n",
       "      <td>...</td>\n",
       "      <td>...</td>\n",
       "      <td>...</td>\n",
       "      <td>...</td>\n",
       "      <td>...</td>\n",
       "      <td>...</td>\n",
       "      <td>...</td>\n",
       "    </tr>\n",
       "    <tr>\n",
       "      <th>3589</th>\n",
       "      <td>SNP999068285</td>\n",
       "      <td>2020-10-14</td>\n",
       "      <td>Settled</td>\n",
       "      <td>10</td>\n",
       "      <td>COT</td>\n",
       "      <td>NaN</td>\n",
       "      <td>3</td>\n",
       "      <td></td>\n",
       "    </tr>\n",
       "    <tr>\n",
       "      <th>3590</th>\n",
       "      <td>SNP999108095712</td>\n",
       "      <td>2020-12-27</td>\n",
       "      <td>Settled</td>\n",
       "      <td>10</td>\n",
       "      <td>CPF</td>\n",
       "      <td>NaN</td>\n",
       "      <td>4</td>\n",
       "      <td></td>\n",
       "    </tr>\n",
       "    <tr>\n",
       "      <th>3591</th>\n",
       "      <td>SNP99911216814</td>\n",
       "      <td>2020-05-22</td>\n",
       "      <td>Settled</td>\n",
       "      <td>9</td>\n",
       "      <td>CSE</td>\n",
       "      <td>NaN</td>\n",
       "      <td>3</td>\n",
       "      <td></td>\n",
       "    </tr>\n",
       "    <tr>\n",
       "      <th>3592</th>\n",
       "      <td>SNP999201678169</td>\n",
       "      <td>2020-05-27</td>\n",
       "      <td>Declined</td>\n",
       "      <td>4</td>\n",
       "      <td>COT</td>\n",
       "      <td>NaN</td>\n",
       "      <td>4</td>\n",
       "      <td></td>\n",
       "    </tr>\n",
       "    <tr>\n",
       "      <th>3593</th>\n",
       "      <td>SNP99957673884</td>\n",
       "      <td>2021-02-04</td>\n",
       "      <td>Settled</td>\n",
       "      <td>9</td>\n",
       "      <td>OOO</td>\n",
       "      <td>Amet aptent consectetur scelerisque varius tin...</td>\n",
       "      <td>4</td>\n",
       "      <td>Arcu curae curabitur tempus aliquet pulvinar p...</td>\n",
       "    </tr>\n",
       "  </tbody>\n",
       "</table>\n",
       "<p>3594 rows × 8 columns</p>\n",
       "</div>"
      ],
      "text/plain": [
       "                 SPID       Date Claim Outcome  Promoter Score Promoter Reason                                              Other  Data Supplier                                           Comments\n",
       "0        SNP000008773 2020-10-09       Settled               9             CSE                                                NaN              4                                                   \n",
       "1        SNP000040607 2021-04-02      Declined               7             OOO  Aptent torquent auctor tempor turpis scelerisq...              4                                                   \n",
       "2        SNP000065851 2020-06-27       Settled               6             CSE                                                NaN              4                                                   \n",
       "3     SNP000302434197 2021-03-22      Declined               4             COT                                                NaN              3  Mi placerat praesent lorem sollicitudin nostra...\n",
       "4      SNP00032039115 2021-04-23      Declined               4             OOO  Placerat class bibendum leo etiam consectetur ...              4                                                   \n",
       "...               ...        ...           ...             ...             ...                                                ...            ...                                                ...\n",
       "3589     SNP999068285 2020-10-14       Settled              10             COT                                                NaN              3                                                   \n",
       "3590  SNP999108095712 2020-12-27       Settled              10             CPF                                                NaN              4                                                   \n",
       "3591   SNP99911216814 2020-05-22       Settled               9             CSE                                                NaN              3                                                   \n",
       "3592  SNP999201678169 2020-05-27      Declined               4             COT                                                NaN              4                                                   \n",
       "3593   SNP99957673884 2021-02-04       Settled               9             OOO  Amet aptent consectetur scelerisque varius tin...              4  Arcu curae curabitur tempus aliquet pulvinar p...\n",
       "\n",
       "[3594 rows x 8 columns]"
      ]
     },
     "execution_count": 3,
     "metadata": {},
     "output_type": "execute_result"
    }
   ],
   "source": [
    "df"
   ]
  },
  {
   "cell_type": "code",
   "execution_count": 4,
   "metadata": {},
   "outputs": [
    {
     "name": "stdout",
     "output_type": "stream",
     "text": [
      "<class 'pandas.core.frame.DataFrame'>\n",
      "RangeIndex: 3594 entries, 0 to 3593\n",
      "Data columns (total 8 columns):\n",
      " #   Column           Non-Null Count  Dtype         \n",
      "---  ------           --------------  -----         \n",
      " 0   SPID             3594 non-null   object        \n",
      " 1   Date             3594 non-null   datetime64[ns]\n",
      " 2   Claim Outcome    3594 non-null   object        \n",
      " 3   Promoter Score   3594 non-null   int64         \n",
      " 4   Promoter Reason  3594 non-null   object        \n",
      " 5   Other            745 non-null    object        \n",
      " 6   Data Supplier    3594 non-null   int64         \n",
      " 7   Comments         3594 non-null   object        \n",
      "dtypes: datetime64[ns](1), int64(2), object(5)\n",
      "memory usage: 224.8+ KB\n"
     ]
    }
   ],
   "source": [
    "df.info()"
   ]
  },
  {
   "cell_type": "code",
   "execution_count": 5,
   "metadata": {},
   "outputs": [
    {
     "data": {
      "text/html": [
       "<div>\n",
       "<style scoped>\n",
       "    .dataframe tbody tr th:only-of-type {\n",
       "        vertical-align: middle;\n",
       "    }\n",
       "\n",
       "    .dataframe tbody tr th {\n",
       "        vertical-align: top;\n",
       "    }\n",
       "\n",
       "    .dataframe thead th {\n",
       "        text-align: right;\n",
       "    }\n",
       "</style>\n",
       "<table border=\"1\" class=\"dataframe\">\n",
       "  <thead>\n",
       "    <tr style=\"text-align: right;\">\n",
       "      <th></th>\n",
       "      <th>Promoter Score</th>\n",
       "      <th>Data Supplier</th>\n",
       "    </tr>\n",
       "  </thead>\n",
       "  <tbody>\n",
       "    <tr>\n",
       "      <th>count</th>\n",
       "      <td>3594.00</td>\n",
       "      <td>3594.00</td>\n",
       "    </tr>\n",
       "    <tr>\n",
       "      <th>mean</th>\n",
       "      <td>5.86</td>\n",
       "      <td>3.49</td>\n",
       "    </tr>\n",
       "    <tr>\n",
       "      <th>std</th>\n",
       "      <td>2.99</td>\n",
       "      <td>0.50</td>\n",
       "    </tr>\n",
       "    <tr>\n",
       "      <th>min</th>\n",
       "      <td>0.00</td>\n",
       "      <td>3.00</td>\n",
       "    </tr>\n",
       "    <tr>\n",
       "      <th>25%</th>\n",
       "      <td>4.00</td>\n",
       "      <td>3.00</td>\n",
       "    </tr>\n",
       "    <tr>\n",
       "      <th>50%</th>\n",
       "      <td>6.00</td>\n",
       "      <td>3.00</td>\n",
       "    </tr>\n",
       "    <tr>\n",
       "      <th>75%</th>\n",
       "      <td>9.00</td>\n",
       "      <td>4.00</td>\n",
       "    </tr>\n",
       "    <tr>\n",
       "      <th>max</th>\n",
       "      <td>10.00</td>\n",
       "      <td>4.00</td>\n",
       "    </tr>\n",
       "  </tbody>\n",
       "</table>\n",
       "</div>"
      ],
      "text/plain": [
       "       Promoter Score  Data Supplier\n",
       "count         3594.00        3594.00\n",
       "mean             5.86           3.49\n",
       "std              2.99           0.50\n",
       "min              0.00           3.00\n",
       "25%              4.00           3.00\n",
       "50%              6.00           3.00\n",
       "75%              9.00           4.00\n",
       "max             10.00           4.00"
      ]
     },
     "execution_count": 5,
     "metadata": {},
     "output_type": "execute_result"
    }
   ],
   "source": [
    "df.describe()"
   ]
  },
  {
   "cell_type": "code",
   "execution_count": 6,
   "metadata": {},
   "outputs": [
    {
     "data": {
      "text/plain": [
       "Index(['SPID', 'Date', 'Claim Outcome', 'Promoter Score', 'Promoter Reason', 'Other', 'Data Supplier', 'Comments'], dtype='object')"
      ]
     },
     "execution_count": 6,
     "metadata": {},
     "output_type": "execute_result"
    }
   ],
   "source": [
    "df.columns"
   ]
  },
  {
   "cell_type": "markdown",
   "metadata": {},
   "source": [
    "### Groupby Function"
   ]
  },
  {
   "cell_type": "code",
   "execution_count": 7,
   "metadata": {},
   "outputs": [
    {
     "data": {
      "text/html": [
       "<div>\n",
       "<style scoped>\n",
       "    .dataframe tbody tr th:only-of-type {\n",
       "        vertical-align: middle;\n",
       "    }\n",
       "\n",
       "    .dataframe tbody tr th {\n",
       "        vertical-align: top;\n",
       "    }\n",
       "\n",
       "    .dataframe thead th {\n",
       "        text-align: right;\n",
       "    }\n",
       "</style>\n",
       "<table border=\"1\" class=\"dataframe\">\n",
       "  <thead>\n",
       "    <tr style=\"text-align: right;\">\n",
       "      <th></th>\n",
       "      <th>Promoter Score</th>\n",
       "      <th>Data Supplier</th>\n",
       "    </tr>\n",
       "    <tr>\n",
       "      <th>Claim Outcome</th>\n",
       "      <th></th>\n",
       "      <th></th>\n",
       "    </tr>\n",
       "  </thead>\n",
       "  <tbody>\n",
       "    <tr>\n",
       "      <th>Declined</th>\n",
       "      <td>2.78</td>\n",
       "      <td>3.49</td>\n",
       "    </tr>\n",
       "    <tr>\n",
       "      <th>Processing</th>\n",
       "      <td>5.48</td>\n",
       "      <td>3.56</td>\n",
       "    </tr>\n",
       "    <tr>\n",
       "      <th>Settled</th>\n",
       "      <td>7.53</td>\n",
       "      <td>3.48</td>\n",
       "    </tr>\n",
       "  </tbody>\n",
       "</table>\n",
       "</div>"
      ],
      "text/plain": [
       "               Promoter Score  Data Supplier\n",
       "Claim Outcome                               \n",
       "Declined                 2.78           3.49\n",
       "Processing               5.48           3.56\n",
       "Settled                  7.53           3.48"
      ]
     },
     "execution_count": 7,
     "metadata": {},
     "output_type": "execute_result"
    }
   ],
   "source": [
    "df2 = df.groupby(\"Claim Outcome\").mean()\n",
    "df2"
   ]
  },
  {
   "cell_type": "markdown",
   "metadata": {},
   "source": [
    "## Data Visualization"
   ]
  },
  {
   "cell_type": "code",
   "execution_count": 8,
   "metadata": {},
   "outputs": [
    {
     "data": {
      "image/png": "[encoded data removed]",
      "text/plain": [
       "<Figure size 720x432 with 1 Axes>"
      ]
     },
     "metadata": {},
     "output_type": "display_data"
    }
   ],
   "source": [
    "df2.plot(kind=\"bar\", figsize=(10,6))\n",
    "plt.show()"
   ]
  },
  {
   "cell_type": "markdown",
   "metadata": {},
   "source": [
    "### Univariate Data Exploration"
   ]
  },
  {
   "cell_type": "code",
   "execution_count": 9,
   "metadata": {},
   "outputs": [
    {
     "data": {
      "image/png": "[encoded data removed]",
      "text/plain": [
       "<Figure size 1440x720 with 4 Axes>"
      ]
     },
     "metadata": {},
     "output_type": "display_data"
    }
   ],
   "source": [
    "df.hist(bins=50, figsize=(20,10))\n",
    "plt.suptitle('Histogram Feature Distribution', x=0.5, y=1.02, ha='center', fontsize=20)\n",
    "plt.tight_layout()\n",
    "plt.show()"
   ]
  },
  {
   "cell_type": "code",
   "execution_count": 10,
   "metadata": {},
   "outputs": [
    {
     "data": {
      "image/png": "[encoded data removed]",
      "text/plain": [
       "<Figure size 1440x720 with 1 Axes>"
      ]
     },
     "metadata": {},
     "output_type": "display_data"
    }
   ],
   "source": [
    "df.boxplot(figsize=(20,10))\n",
    "plt.suptitle('BoxPlots Feature Distribution', x=0.5, y=1.02, ha='center', fontsize=20)\n",
    "plt.tight_layout()\n",
    "plt.show()"
   ]
  },
  {
   "cell_type": "code",
   "execution_count": null,
   "metadata": {},
   "outputs": [],
   "source": []
  },
  {
   "cell_type": "markdown",
   "metadata": {},
   "source": [
    "#### Python code done by Dennis Lam"
   ]
  }
 ],
 "metadata": {
  "kernelspec": {
   "display_name": "Python 3 (ipykernel)",
   "language": "python",
   "name": "python3"
  },
  "language_info": {
   "codemirror_mode": {
    "name": "ipython",
    "version": 3
   },
   "file_extension": ".py",
   "mimetype": "text/x-python",
   "name": "python",
   "nbconvert_exporter": "python",
   "pygments_lexer": "ipython3",
   "version": "3.8.8"
  }
 },
 "nbformat": 4,
 "nbformat_minor": 4
}
